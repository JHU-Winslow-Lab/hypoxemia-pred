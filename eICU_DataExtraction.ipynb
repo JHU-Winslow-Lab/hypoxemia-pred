{
 "cells": [
  {
   "cell_type": "code",
   "execution_count": null,
   "metadata": {},
   "outputs": [],
   "source": [
    "import psycopg2\n"
   ]
  },
  {
   "cell_type": "code",
   "execution_count": null,
   "metadata": {},
   "outputs": [],
   "source": [
    "#The fields below depend on the user's sql set-up for the eICU database\n",
    "hostname = ###\n",
    "username = ###\n",
    "password = ###\n",
    "database = ###\n",
    "\n",
    "myConnection = psycopg2.connect( host=hostname, user=username, password=password, dbname=database )\n"
   ]
  },
  {
   "cell_type": "code",
   "execution_count": null,
   "metadata": {},
   "outputs": [],
   "source": [
    "import pandas.io.sql as sqlio\n",
    "\n",
    "sql = \"SELECT patientUnitStayID,observationoffset,sao2 FROM eicu.vitalperiodic ORDER BY patientUnitStayID, observationoffset\"\n",
    "vitals = sqlio.read_sql_query(sql, myConnection)\n"
   ]
  },
  {
   "cell_type": "code",
   "execution_count": null,
   "metadata": {},
   "outputs": [],
   "source": [
    "#Get these 1326 patients IDs with ventilator\n",
    "query1=\"SELECT DISTINCT patientUnitStayID FROM eicu.respiratorycharting WHERE respchartvaluelabel SIMILAR TO '%(ET TUBE|ETT|Endotracheal|Trach|Tracheostomy)%'\"\n",
    "vent_pts=sqlio.read_sql_query(query1, myConnection)\n",
    "\n",
    "\n"
   ]
  },
  {
   "cell_type": "code",
   "execution_count": null,
   "metadata": {},
   "outputs": [],
   "source": [
    "#Get the non_vent patients by random sample\n",
    "q2=\"SELECT * FROM eicu.patient WHERE patientUnitStayID NOT IN (SELECT DISTINCT patientUnitStayID FROM eicu.respiratorycharting WHERE respchartvaluelabel SIMILAR TO '%(ET TUBE|ETT|Endotracheal|Trach|Tracheostomy)%') ORDER BY RANDOM() LIMIT 1326\"\n",
    "not_vent_pts=sqlio.read_sql_query(q2, myConnection)\n",
    "not_vent_pts.to_csv('RandomNon_vent.csv')\n"
   ]
  },
  {
   "cell_type": "code",
   "execution_count": null,
   "metadata": {},
   "outputs": [],
   "source": [
    "#get data for ventilator patients\n",
    "q3=\"SELECT * FROM eicu.patient WHERE patientUnitStayID IN (SELECT DISTINCT patientUnitStayID FROM eicu.respiratorycharting WHERE respchartvaluelabel SIMILAR TO '%(ET TUBE|ETT|Endotracheal|Trach|Tracheostomy)%')\"\n",
    "vent_pts=sqlio.read_sql_query(q3, myConnection)\n",
    "#vent_pts.to_csv('AllVent.csv')\n"
   ]
  },
  {
   "cell_type": "code",
   "execution_count": null,
   "metadata": {},
   "outputs": [],
   "source": [
    "#saving IDs\n",
    "import pandas as pd\n",
    "non_vent_pts=pd.read_csv('RandomNon_vent.csv')\n",
    "non_vent_IDs=non_vent_pts['patientunitstayid'].unique()\n",
    "vent_pts=pd.read_csv('Allvent.csv')\n",
    "vent_IDs=vent_pts['patientunitstayid'].unique()"
   ]
  },
  {
   "cell_type": "code",
   "execution_count": null,
   "metadata": {},
   "outputs": [],
   "source": [
    "#getting initial training set\n",
    "import numpy as np\n",
    "TrainIDs=np.concatenate((vent_IDs[0:1000],non_vent_IDs[0:1000]))\n",
    "Vent_TestIDs=vent_IDs[1000:]\n",
    "non_vent_TestIDs=non_vent_IDs[1000:]\n",
    "All_IDs=np.concatenate((TrainIDs,Vent_TestIDs,non_vent_TestIDs))"
   ]
  },
  {
   "cell_type": "code",
   "execution_count": null,
   "metadata": {},
   "outputs": [],
   "source": [
    "#imports to work with sql in python\n",
    "import numpy as np\n",
    "from psycopg2.extensions import register_adapter, AsIs\n",
    "\n",
    "def addapt_numpy_array(numpy_array):\n",
    "    return AsIs(tuple(numpy_array))\n",
    "\n",
    "register_adapter(np.ndarray, addapt_numpy_array)\n"
   ]
  },
  {
   "cell_type": "code",
   "execution_count": null,
   "metadata": {},
   "outputs": [],
   "source": [
    "#getting vitals\n",
    "q=\"SELECT patientUnitStayID,observationoffset,sao2 FROM eicu.vitalperiodic WHERE patientUnitStayID in %s ORDER BY patientUnitStayID, observationoffset\"\n",
    "vitals=sqlio.read_sql_query(q, myConnection,params=[All_IDs])\n"
   ]
  },
  {
   "cell_type": "code",
   "execution_count": null,
   "metadata": {},
   "outputs": [],
   "source": [
    "vitals.to_csv('vitals.csv')"
   ]
  },
  {
   "cell_type": "code",
   "execution_count": null,
   "metadata": {},
   "outputs": [],
   "source": [
    "#save the IDs in each set\n",
    "TrainIDs=np.intersect1d(TrainIDs,vitals['patientunitstayid'].unique())\n",
    "Test_Vent=np.intersect1d(Vent_TestIDs,vitals['patientunitstayid'].unique())\n",
    "Test_NoVent=np.intersect1d(non_vent_TestIDs,vitals['patientunitstayid'].unique())\n"
   ]
  },
  {
   "cell_type": "code",
   "execution_count": null,
   "metadata": {},
   "outputs": [],
   "source": [
    "#get patient information\n",
    "q=\"SELECT * FROM eicu.patient WHERE patientUnitStayID in %s ORDER BY patientUnitStayID\"\n",
    "vitals_train=sqlio.read_sql_query(q, myConnection,params=[TrainIDs])\n",
    "vitals_venttest=sqlio.read_sql_query(q, myConnection,params=[Test_Vent])\n",
    "vitals_noventtest=sqlio.read_sql_query(q, myConnection,params=[Test_NoVent])\n"
   ]
  },
  {
   "cell_type": "code",
   "execution_count": null,
   "metadata": {},
   "outputs": [],
   "source": [
    "#uniue patient IDs\n",
    "#remove patients with stays in both train and test\n",
    "train_pts=vitals_train['uniquepid']\n",
    "venttest_pts=vitals_venttest['uniquepid']\n",
    "noventtest_pts=vitals_noventtest['uniquepid']"
   ]
  },
  {
   "cell_type": "code",
   "execution_count": null,
   "metadata": {},
   "outputs": [],
   "source": [
    "np.intersect1d(train_pts,venttest_pts)"
   ]
  },
  {
   "cell_type": "code",
   "execution_count": null,
   "metadata": {},
   "outputs": [],
   "source": [
    "np.intersect1d(train_pts,noventtest_pts)"
   ]
  },
  {
   "cell_type": "code",
   "execution_count": null,
   "metadata": {},
   "outputs": [],
   "source": [
    "vitals_venttest=vitals_venttest[~vitals_venttest['uniquepid'].isin(['033-18915', '033-21109', '033-28508', '033-3075', '033-35464'])]"
   ]
  },
  {
   "cell_type": "code",
   "execution_count": null,
   "metadata": {},
   "outputs": [],
   "source": [
    "vitals_noventtest=vitals_noventtest[~vitals_noventtest['uniquepid'].isin(['009-15364', '017-30920', '017-84854', '033-41650'])]"
   ]
  },
  {
   "cell_type": "code",
   "execution_count": null,
   "metadata": {},
   "outputs": [],
   "source": [
    "Test_Vent=np.array(vitals_venttest['patientunitstayid'])\n",
    "Test_NoVent=np.array(vitals_noventtest['patientunitstayid'])"
   ]
  },
  {
   "cell_type": "code",
   "execution_count": null,
   "metadata": {},
   "outputs": [],
   "source": [
    "#save the train, test sets\n",
    "np.savetxt(\"TrainEICU.csv\", TrainIDs, delimiter=\",\")\n",
    "np.savetxt(\"TestVent.csv\", Test_Vent, delimiter=\",\")\n",
    "np.savetxt(\"Test_NoVent.csv\", Test_NoVent, delimiter=\",\")\n"
   ]
  },
  {
   "cell_type": "code",
   "execution_count": null,
   "metadata": {},
   "outputs": [],
   "source": [
    "Vent_Test_Pts=np.loadtxt(\"FinalVentTestEICU_30min.csv\", delimiter=\",\")\n",
    "NonVent_Test_Pts=np.loadtxt(\"FinalNoVentTestEICU_30min.csv\", delimiter=\",\")\n",
    "Train_pts=np.loadtxt('TrainEICU.csv')"
   ]
  },
  {
   "cell_type": "code",
   "execution_count": null,
   "metadata": {},
   "outputs": [],
   "source": [
    "#Demographics\n",
    "#Read in the final lists\n",
    "\n",
    "q=\"SELECT * FROM eicu.patient WHERE patientUnitStayID in %s ORDER BY patientUnitStayID\"\n",
    "dems_vent_test=sqlio.read_sql_query(q, myConnection,params=[Vent_Test_Pts])\n",
    "dems_novent_test=sqlio.read_sql_query(q, myConnection,params=[NonVent_Test_Pts])\n"
   ]
  },
  {
   "cell_type": "code",
   "execution_count": null,
   "metadata": {},
   "outputs": [],
   "source": [
    "dems_vent_test=dems_vent_test.replace('> 89','90')\n",
    "medv = dems_vent_test['age'].median()\n",
    "\n"
   ]
  },
  {
   "cell_type": "code",
   "execution_count": null,
   "metadata": {},
   "outputs": [],
   "source": [
    "dems_novent_test=dems_novent_test.replace('> 89','90')\n",
    "med_nv=dems_novent_test['age'].median()"
   ]
  },
  {
   "cell_type": "code",
   "execution_count": null,
   "metadata": {},
   "outputs": [],
   "source": [
    "vent_fem = np.sum(dems_vent_test['gender']=='Female')/len(dems_vent_test['gender'])"
   ]
  },
  {
   "cell_type": "code",
   "execution_count": null,
   "metadata": {},
   "outputs": [],
   "source": [
    "nv_fem = np.sum(dems_novent_test['gender']=='Female')/len(dems_novent_test['gender'])"
   ]
  },
  {
   "cell_type": "code",
   "execution_count": null,
   "metadata": {},
   "outputs": [],
   "source": [
    "vent_caucasian = np.sum(dems_vent_test['ethnicity']=='Caucasian')/len(dems_vent_test['ethnicity'])"
   ]
  },
  {
   "cell_type": "code",
   "execution_count": null,
   "metadata": {},
   "outputs": [],
   "source": [
    "nv_caucasian = np.sum(dems_novent_test['ethnicity']=='Caucasian')/len(dems_novent_test['ethnicity'])"
   ]
  },
  {
   "cell_type": "code",
   "execution_count": null,
   "metadata": {},
   "outputs": [],
   "source": [
    "dems_vent_test['apacheadmissiondx'].value_counts()"
   ]
  },
  {
   "cell_type": "code",
   "execution_count": null,
   "metadata": {},
   "outputs": [],
   "source": [
    "dems_novent_test['apacheadmissiondx'].value_counts()"
   ]
  },
  {
   "cell_type": "code",
   "execution_count": null,
   "metadata": {},
   "outputs": [],
   "source": []
  }
 ],
 "metadata": {
  "kernelspec": {
   "display_name": "Python 3",
   "language": "python",
   "name": "python3"
  },
  "language_info": {
   "codemirror_mode": {
    "name": "ipython",
    "version": 3
   },
   "file_extension": ".py",
   "mimetype": "text/x-python",
   "name": "python",
   "nbconvert_exporter": "python",
   "pygments_lexer": "ipython3",
   "version": "3.8.3"
  }
 },
 "nbformat": 4,
 "nbformat_minor": 4
}
