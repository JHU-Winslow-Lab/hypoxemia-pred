{
 "cells": [
  {
   "cell_type": "code",
   "execution_count": null,
   "metadata": {},
   "outputs": [],
   "source": [
    "import pandas as pd\n",
    "import numpy as np\n"
   ]
  },
  {
   "cell_type": "code",
   "execution_count": null,
   "metadata": {},
   "outputs": [],
   "source": [
    "#Read in data\n",
    "f1 = ###Path to file containing vitals data for test set patients\n",
    "f2 = ###Path to file containing ventilator test set patients\n",
    "f3 = ###Path to file containing non-ventilator test set patients\n",
    "f4=###Path to file containing COVID test set patients\n",
    "\n",
    "vitals=pd.read_csv(f1)\n",
    "VentTest=pd.read_csv(f2,header=None)\n",
    "VentTest=np.array(VentTest[0].astype(int))\n",
    "NoVentTest=pd.read_csv(f3,header=None)\n",
    "NoVentTest=np.array(NoVentTest[0].astype(int))\n"
   ]
  },
  {
   "cell_type": "markdown",
   "metadata": {},
   "source": [
    "Test the Models"
   ]
  },
  {
   "cell_type": "code",
   "execution_count": null,
   "metadata": {},
   "outputs": [],
   "source": [
    "df = pd.DataFrame (columns = ['ID','Fit MSE','Fit r','Acc','Sens','Spec','PPV','FP','TP','FN','TN','N'])"
   ]
  },
  {
   "cell_type": "code",
   "execution_count": null,
   "metadata": {},
   "outputs": [],
   "source": [
    "#run through all  remaining patients\n",
    "from tensorflow import keras\n",
    "#CHANGE MODEL HERE, TEST SET AS WELL TO VENT, NON VENT, or COVID\n",
    "lstm=keras.models.load_model('FullEICU_trained_model_5min.h5')\n",
    "for r in range(0,len(VentTest)):\n",
    "    ID = VentTest[r]\n",
    "    v=vitals[vitals['patientunitstayid']==ID]\n",
    "    if len(v)>60:\n",
    "        if ~(np.sum(v.isna()['sao2'])==len(v)):\n",
    "            pt_series,vital_times=get_time_series_smooth(ID,vitals)\n",
    "            #CHANGE DATA FUNCTION HERE FOR 5 VS. 30\n",
    "            xtest,ytest,ts,t,n = time_data5(pt_series,vital_times)\n",
    "            #only for sao2 only model\n",
    "            xtest=np.array(xtest).reshape(np.shape(xtest)[0],2,1)\n",
    "            pred=lstm.predict(xtest) \n",
    "            from sklearn.metrics import mean_squared_error\n",
    "            ms=mean_squared_error(ytest,pred)\n",
    "            from scipy import stats\n",
    "            corr=stats.spearmanr(ytest,pred)\n",
    "            thresh=1-np.exp((92-100)/10)\n",
    "            true_hy=ytest>=thresh\n",
    "            pred_hy=pred>=thresh\n",
    "            from sklearn.metrics import confusion_matrix\n",
    "            if np.sum(true_hy)==0:\n",
    "                tp=0\n",
    "                tn=len(true_hy)\n",
    "                fp=np.sum(pred_hy)\n",
    "                fn=0\n",
    "                sens='all_neg'\n",
    "                spec=tn/(tn+fp)\n",
    "                acc=(tp+tn)/(tn+fp+fn+tp)\n",
    "                ppv='all_neg'\n",
    "            elif np.sum(true_hy)==len(true_hy):\n",
    "                tp=len(true_hy)\n",
    "                tn=0\n",
    "                fp=0\n",
    "                fn=len(pred_hy)-np.sum(pred_hy)\n",
    "                sens=tp/(tp+fn)\n",
    "                spec='all_pos'\n",
    "                acc=(tp+tn)/(tn+fp+fn+tp)\n",
    "                ppv='all_pos'\n",
    "            else:    \n",
    "                tn, fp, fn, tp = confusion_matrix(true_hy, pred_hy).ravel()\n",
    "                spec = tn/(tn+fp)\n",
    "                sens=tp/(tp+fn)\n",
    "                acc=(tp+tn)/(tn+fp+fn+tp)\n",
    "                if (fp==0 and tp==0):\n",
    "                    ppv='no_pos_preds'\n",
    "                else:\n",
    "                    ppv=tp/(tp+fp)\n",
    "            num=len(true_hy)\n",
    "            df = df.append({'ID':ID,'Fit MSE':ms,'Fit r':corr[0],'Acc':acc,'Sens':sens,'Spec':spec,'PPV':ppv,'FP':fp,'TP':tp,'FN':fn,'TN':tn,'N':num}, ignore_index=True)\n",
    "    \n"
   ]
  },
  {
   "cell_type": "code",
   "execution_count": null,
   "metadata": {},
   "outputs": [],
   "source": [
    "#save the IDs\n",
    "np.savetxt(\"TESTSET_IDs.csv\", np.array(df['ID']), delimiter=\",\")"
   ]
  },
  {
   "cell_type": "code",
   "execution_count": null,
   "metadata": {},
   "outputs": [],
   "source": [
    "df.to_csv('RESULTS.csv')"
   ]
  },
  {
   "cell_type": "markdown",
   "metadata": {},
   "source": [
    "Waveform figures"
   ]
  },
  {
   "cell_type": "code",
   "execution_count": null,
   "metadata": {},
   "outputs": [],
   "source": [
    "#make figures as needed\n",
    "from tensorflow import keras\n",
    "#replace ID, model and timedata function here!!!\n",
    "ID = ###\n",
    "lstm=keras.models.load_model('FullEICU_trained_model_5min.h5')\n",
    "pt_series,vital_times=get_time_series_smooth(ID,vitals)\n",
    "#change fxn\n",
    "xtest,ytest,ts,t,n = time_data5(pt_series,vital_times)\n",
    "\n",
    "xtest=np.array(xtest).reshape(np.shape(xtest)[0],2,1)\n",
    "pred=lstm.predict(xtest) \n",
    "from sklearn.metrics import mean_squared_error\n",
    "ms=mean_squared_error(ytest,pred)\n",
    "from scipy import stats\n",
    "corr=stats.spearmanr(ytest,pred)\n",
    "import matplotlib.pyplot as plt\n",
    "ytest=(np.log(-1*(ytest-1))*10) + 100\n",
    "pred=(np.log(-1*(pred-1))*10) + 100\n",
    "plt.rc('ytick', labelsize=16) \n",
    "plt.rc('xtick', labelsize=16) \n",
    "plt.rc('figure', titlesize=16) \n",
    "plt.rc('axes', labelsize=16)\n",
    "plt.rc('legend', fontsize=16)\n",
    "plt.plot(t,ytest,label='True Signal')\n",
    "plt.plot(t,pred,label='Predicted Signal')\n",
    "plt.xlabel('Time (min)')\n",
    "plt.ylabel('SPO2')\n",
    "plt.tight_layout()\n",
    "plt.legend()\n",
    "plt.savefig('Dataset_PtID_BestOrWorst'+str(ID)+'big.jpg',bbox_inches='tight')"
   ]
  },
  {
   "cell_type": "markdown",
   "metadata": {},
   "source": [
    "Necessary Functions"
   ]
  },
  {
   "cell_type": "code",
   "execution_count": null,
   "metadata": {},
   "outputs": [],
   "source": [
    "def get_time_series_smooth(ID,vitals):\n",
    "    #pull the patients data\n",
    "    vitals=vitals[vitals['patientunitstayid']==ID]\n",
    "    vitals=vitals[['observationoffset','sao2']]\n",
    "    vitals=vitals.fillna(method='pad')\n",
    "    vitals=vitals.dropna()\n",
    "    vital_times=np.array(vitals['observationoffset'])\n",
    "\n",
    "    #smooth the necessary signals\n",
    "    #from scipy.signal import savgol_filter\n",
    "    sao2=vitals['sao2']\n",
    "    sao2_transformed=1-np.exp((sao2-100)/10)\n",
    "    sao2_smooth = np.concatenate((sao2_transformed[0:4],np.convolve(sao2_transformed, np.ones(5)/5,mode='valid')))\n",
    "\n",
    "    \n",
    "    #the patient time series\n",
    "    #SaO2 only\n",
    "    pt_series=np.transpose(np.vstack(sao2_smooth))\n",
    "\n",
    "    return pt_series,vital_times"
   ]
  },
  {
   "cell_type": "code",
   "execution_count": null,
   "metadata": {},
   "outputs": [],
   "source": [
    "def time_data5(pt_series,vital_times):\n",
    "    ys=[]\n",
    "    xs=[]\n",
    "    t=[]\n",
    "    ts=2\n",
    "    inputshape=0\n",
    "    #for SaO2 model only\n",
    "    for i in range(0,len(pt_series[0])-(ts+1)):\n",
    "        y=pt_series[0][i+ts]\n",
    "        t.append(vital_times[i+ts])\n",
    "        #all\n",
    "        x=pt_series[0][i:i+ts]\n",
    "        ys.append(y)\n",
    "        xs.append(x)\n",
    "    ys=np.transpose(ys)\n",
    "    n=0\n",
    "    return xs,ys,ts,t,n"
   ]
  },
  {
   "cell_type": "code",
   "execution_count": null,
   "metadata": {},
   "outputs": [],
   "source": [
    "def time_data30(pt_series,vital_times):\n",
    "    ys=[]\n",
    "    xs=[]\n",
    "    t=[]\n",
    "    ts=2\n",
    "    inputshape=0\n",
    "    #for SaO2 model only\n",
    "    for i in range(0,len(pt_series[0])-(ts+1)):\n",
    "        y=pt_series[0][i+ts]\n",
    "        t.append(vital_times[i+ts])\n",
    "        #all\n",
    "        x=pt_series[0][i:i+ts]\n",
    "        ys.append(y)\n",
    "        xs.append(x)\n",
    "    ys=np.transpose(ys)\n",
    "    n=0\n",
    "    #downsampling\n",
    "    d=6\n",
    "    xs=xs[::d]\n",
    "    ys=ys[::d]\n",
    "    t=t[::d]\n",
    "    return xs,ys,ts,t,n"
   ]
  },
  {
   "cell_type": "code",
   "execution_count": null,
   "metadata": {},
   "outputs": [],
   "source": []
  },
  {
   "cell_type": "code",
   "execution_count": null,
   "metadata": {},
   "outputs": [],
   "source": []
  }
 ],
 "metadata": {
  "kernelspec": {
   "display_name": "Python 3",
   "language": "python",
   "name": "python3"
  },
  "language_info": {
   "codemirror_mode": {
    "name": "ipython",
    "version": 3
   },
   "file_extension": ".py",
   "mimetype": "text/x-python",
   "name": "python",
   "nbconvert_exporter": "python",
   "pygments_lexer": "ipython3",
   "version": "3.8.3"
  }
 },
 "nbformat": 4,
 "nbformat_minor": 2
}
